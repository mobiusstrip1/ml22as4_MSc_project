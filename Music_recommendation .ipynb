{
 "cells": [
  {
   "cell_type": "code",
   "execution_count": 2,
   "id": "7d7a877f",
   "metadata": {},
   "outputs": [],
   "source": [
    "import matplotlib.pyplot as plt\n",
    "import networkx as nx\n",
    "import numpy as np\n",
    "import pandas as pd\n",
    "import pickle\n",
    "import requests\n",
    "import os\n",
    "\n",
    "import torch\n",
    "import torch.nn as nn\n",
    "import torch.nn.functional as F\n",
    "from torch.utils.data import Dataset, DataLoader\n",
    "from torch_geometric.datasets import LastFM\n",
    "\n",
    "from sklearn.metrics import average_precision_score, roc_auc_score\n",
    "from tqdm import tqdm\n",
    "\n",
    "from collections import defaultdict"
   ]
  },
  {
   "cell_type": "markdown",
   "id": "988ac21d",
   "metadata": {},
   "source": [
    "#### 1. Import data and general check"
   ]
  },
  {
   "cell_type": "code",
   "execution_count": 3,
   "id": "f1081365",
   "metadata": {},
   "outputs": [],
   "source": [
    "artist = pd.read_csv(\"artists.dat\",sep='\\t')\n",
    "tags = pd.read_csv(\"tags.dat\",sep='\\t', encoding='ISO-8859-1')\n",
    "user_artists = pd.read_csv(\"user_artists.dat\",sep = '\\t')\n",
    "user_friends = pd.read_csv(\"user_friends.dat\",sep = '\\t')\n",
    "timestamp = pd.read_csv(\"user_taggedartists-timestamps.dat\",sep = '\\t')\n",
    "user_taggedartists = pd.read_csv(\"user_taggedartists.dat\",sep = '\\t')"
   ]
  },
  {
   "cell_type": "code",
   "execution_count": 4,
   "id": "99fd4463",
   "metadata": {
    "scrolled": true
   },
   "outputs": [
    {
     "data": {
      "text/html": [
       "<div>\n",
       "<style scoped>\n",
       "    .dataframe tbody tr th:only-of-type {\n",
       "        vertical-align: middle;\n",
       "    }\n",
       "\n",
       "    .dataframe tbody tr th {\n",
       "        vertical-align: top;\n",
       "    }\n",
       "\n",
       "    .dataframe thead th {\n",
       "        text-align: right;\n",
       "    }\n",
       "</style>\n",
       "<table border=\"1\" class=\"dataframe\">\n",
       "  <thead>\n",
       "    <tr style=\"text-align: right;\">\n",
       "      <th></th>\n",
       "      <th>id</th>\n",
       "      <th>name</th>\n",
       "      <th>url</th>\n",
       "      <th>pictureURL</th>\n",
       "    </tr>\n",
       "  </thead>\n",
       "  <tbody>\n",
       "    <tr>\n",
       "      <th>0</th>\n",
       "      <td>1</td>\n",
       "      <td>MALICE MIZER</td>\n",
       "      <td>http://www.last.fm/music/MALICE+MIZER</td>\n",
       "      <td>http://userserve-ak.last.fm/serve/252/10808.jpg</td>\n",
       "    </tr>\n",
       "    <tr>\n",
       "      <th>1</th>\n",
       "      <td>2</td>\n",
       "      <td>Diary of Dreams</td>\n",
       "      <td>http://www.last.fm/music/Diary+of+Dreams</td>\n",
       "      <td>http://userserve-ak.last.fm/serve/252/3052066.jpg</td>\n",
       "    </tr>\n",
       "    <tr>\n",
       "      <th>2</th>\n",
       "      <td>3</td>\n",
       "      <td>Carpathian Forest</td>\n",
       "      <td>http://www.last.fm/music/Carpathian+Forest</td>\n",
       "      <td>http://userserve-ak.last.fm/serve/252/40222717...</td>\n",
       "    </tr>\n",
       "    <tr>\n",
       "      <th>3</th>\n",
       "      <td>4</td>\n",
       "      <td>Moi dix Mois</td>\n",
       "      <td>http://www.last.fm/music/Moi+dix+Mois</td>\n",
       "      <td>http://userserve-ak.last.fm/serve/252/54697835...</td>\n",
       "    </tr>\n",
       "    <tr>\n",
       "      <th>4</th>\n",
       "      <td>5</td>\n",
       "      <td>Bella Morte</td>\n",
       "      <td>http://www.last.fm/music/Bella+Morte</td>\n",
       "      <td>http://userserve-ak.last.fm/serve/252/14789013...</td>\n",
       "    </tr>\n",
       "  </tbody>\n",
       "</table>\n",
       "</div>"
      ],
      "text/plain": [
       "   id               name                                         url  \\\n",
       "0   1       MALICE MIZER       http://www.last.fm/music/MALICE+MIZER   \n",
       "1   2    Diary of Dreams    http://www.last.fm/music/Diary+of+Dreams   \n",
       "2   3  Carpathian Forest  http://www.last.fm/music/Carpathian+Forest   \n",
       "3   4       Moi dix Mois       http://www.last.fm/music/Moi+dix+Mois   \n",
       "4   5        Bella Morte        http://www.last.fm/music/Bella+Morte   \n",
       "\n",
       "                                          pictureURL  \n",
       "0    http://userserve-ak.last.fm/serve/252/10808.jpg  \n",
       "1  http://userserve-ak.last.fm/serve/252/3052066.jpg  \n",
       "2  http://userserve-ak.last.fm/serve/252/40222717...  \n",
       "3  http://userserve-ak.last.fm/serve/252/54697835...  \n",
       "4  http://userserve-ak.last.fm/serve/252/14789013...  "
      ]
     },
     "execution_count": 4,
     "metadata": {},
     "output_type": "execute_result"
    }
   ],
   "source": [
    "artist.head()\n"
   ]
  },
  {
   "cell_type": "code",
   "execution_count": 5,
   "id": "497dea2f",
   "metadata": {},
   "outputs": [
    {
     "name": "stdout",
     "output_type": "stream",
     "text": [
      "<class 'pandas.core.frame.DataFrame'>\n",
      "RangeIndex: 17632 entries, 0 to 17631\n",
      "Data columns (total 4 columns):\n",
      " #   Column      Non-Null Count  Dtype \n",
      "---  ------      --------------  ----- \n",
      " 0   id          17632 non-null  int64 \n",
      " 1   name        17632 non-null  object\n",
      " 2   url         17632 non-null  object\n",
      " 3   pictureURL  17188 non-null  object\n",
      "dtypes: int64(1), object(3)\n",
      "memory usage: 551.1+ KB\n"
     ]
    }
   ],
   "source": [
    "artist.info()"
   ]
  },
  {
   "cell_type": "code",
   "execution_count": 6,
   "id": "af32d7b9",
   "metadata": {},
   "outputs": [
    {
     "data": {
      "text/html": [
       "<div>\n",
       "<style scoped>\n",
       "    .dataframe tbody tr th:only-of-type {\n",
       "        vertical-align: middle;\n",
       "    }\n",
       "\n",
       "    .dataframe tbody tr th {\n",
       "        vertical-align: top;\n",
       "    }\n",
       "\n",
       "    .dataframe thead th {\n",
       "        text-align: right;\n",
       "    }\n",
       "</style>\n",
       "<table border=\"1\" class=\"dataframe\">\n",
       "  <thead>\n",
       "    <tr style=\"text-align: right;\">\n",
       "      <th></th>\n",
       "      <th>tagID</th>\n",
       "      <th>tagValue</th>\n",
       "    </tr>\n",
       "  </thead>\n",
       "  <tbody>\n",
       "    <tr>\n",
       "      <th>0</th>\n",
       "      <td>1</td>\n",
       "      <td>metal</td>\n",
       "    </tr>\n",
       "    <tr>\n",
       "      <th>1</th>\n",
       "      <td>2</td>\n",
       "      <td>alternative metal</td>\n",
       "    </tr>\n",
       "    <tr>\n",
       "      <th>2</th>\n",
       "      <td>3</td>\n",
       "      <td>goth rock</td>\n",
       "    </tr>\n",
       "    <tr>\n",
       "      <th>3</th>\n",
       "      <td>4</td>\n",
       "      <td>black metal</td>\n",
       "    </tr>\n",
       "    <tr>\n",
       "      <th>4</th>\n",
       "      <td>5</td>\n",
       "      <td>death metal</td>\n",
       "    </tr>\n",
       "  </tbody>\n",
       "</table>\n",
       "</div>"
      ],
      "text/plain": [
       "   tagID           tagValue\n",
       "0      1              metal\n",
       "1      2  alternative metal\n",
       "2      3          goth rock\n",
       "3      4        black metal\n",
       "4      5        death metal"
      ]
     },
     "execution_count": 6,
     "metadata": {},
     "output_type": "execute_result"
    }
   ],
   "source": [
    "tags.head()"
   ]
  },
  {
   "cell_type": "code",
   "execution_count": 7,
   "id": "13d4e257",
   "metadata": {},
   "outputs": [
    {
     "name": "stdout",
     "output_type": "stream",
     "text": [
      "<class 'pandas.core.frame.DataFrame'>\n",
      "RangeIndex: 11946 entries, 0 to 11945\n",
      "Data columns (total 2 columns):\n",
      " #   Column    Non-Null Count  Dtype \n",
      "---  ------    --------------  ----- \n",
      " 0   tagID     11946 non-null  int64 \n",
      " 1   tagValue  11946 non-null  object\n",
      "dtypes: int64(1), object(1)\n",
      "memory usage: 186.8+ KB\n"
     ]
    }
   ],
   "source": [
    "tags.info()"
   ]
  },
  {
   "cell_type": "code",
   "execution_count": 8,
   "id": "62b9b94b",
   "metadata": {},
   "outputs": [
    {
     "data": {
      "text/html": [
       "<div>\n",
       "<style scoped>\n",
       "    .dataframe tbody tr th:only-of-type {\n",
       "        vertical-align: middle;\n",
       "    }\n",
       "\n",
       "    .dataframe tbody tr th {\n",
       "        vertical-align: top;\n",
       "    }\n",
       "\n",
       "    .dataframe thead th {\n",
       "        text-align: right;\n",
       "    }\n",
       "</style>\n",
       "<table border=\"1\" class=\"dataframe\">\n",
       "  <thead>\n",
       "    <tr style=\"text-align: right;\">\n",
       "      <th></th>\n",
       "      <th>userID</th>\n",
       "      <th>friendID</th>\n",
       "    </tr>\n",
       "  </thead>\n",
       "  <tbody>\n",
       "    <tr>\n",
       "      <th>0</th>\n",
       "      <td>2</td>\n",
       "      <td>275</td>\n",
       "    </tr>\n",
       "    <tr>\n",
       "      <th>1</th>\n",
       "      <td>2</td>\n",
       "      <td>428</td>\n",
       "    </tr>\n",
       "    <tr>\n",
       "      <th>2</th>\n",
       "      <td>2</td>\n",
       "      <td>515</td>\n",
       "    </tr>\n",
       "    <tr>\n",
       "      <th>3</th>\n",
       "      <td>2</td>\n",
       "      <td>761</td>\n",
       "    </tr>\n",
       "    <tr>\n",
       "      <th>4</th>\n",
       "      <td>2</td>\n",
       "      <td>831</td>\n",
       "    </tr>\n",
       "  </tbody>\n",
       "</table>\n",
       "</div>"
      ],
      "text/plain": [
       "   userID  friendID\n",
       "0       2       275\n",
       "1       2       428\n",
       "2       2       515\n",
       "3       2       761\n",
       "4       2       831"
      ]
     },
     "execution_count": 8,
     "metadata": {},
     "output_type": "execute_result"
    }
   ],
   "source": [
    "user_friends.head()"
   ]
  },
  {
   "cell_type": "code",
   "execution_count": 9,
   "id": "7f35e463",
   "metadata": {},
   "outputs": [
    {
     "name": "stdout",
     "output_type": "stream",
     "text": [
      "<class 'pandas.core.frame.DataFrame'>\n",
      "RangeIndex: 25434 entries, 0 to 25433\n",
      "Data columns (total 2 columns):\n",
      " #   Column    Non-Null Count  Dtype\n",
      "---  ------    --------------  -----\n",
      " 0   userID    25434 non-null  int64\n",
      " 1   friendID  25434 non-null  int64\n",
      "dtypes: int64(2)\n",
      "memory usage: 397.5 KB\n"
     ]
    }
   ],
   "source": [
    "user_friends.info()"
   ]
  },
  {
   "cell_type": "code",
   "execution_count": 10,
   "id": "d29eadd7",
   "metadata": {},
   "outputs": [
    {
     "data": {
      "text/html": [
       "<div>\n",
       "<style scoped>\n",
       "    .dataframe tbody tr th:only-of-type {\n",
       "        vertical-align: middle;\n",
       "    }\n",
       "\n",
       "    .dataframe tbody tr th {\n",
       "        vertical-align: top;\n",
       "    }\n",
       "\n",
       "    .dataframe thead th {\n",
       "        text-align: right;\n",
       "    }\n",
       "</style>\n",
       "<table border=\"1\" class=\"dataframe\">\n",
       "  <thead>\n",
       "    <tr style=\"text-align: right;\">\n",
       "      <th></th>\n",
       "      <th>userID</th>\n",
       "      <th>artistID</th>\n",
       "      <th>weight</th>\n",
       "    </tr>\n",
       "  </thead>\n",
       "  <tbody>\n",
       "    <tr>\n",
       "      <th>0</th>\n",
       "      <td>2</td>\n",
       "      <td>51</td>\n",
       "      <td>13883</td>\n",
       "    </tr>\n",
       "    <tr>\n",
       "      <th>1</th>\n",
       "      <td>2</td>\n",
       "      <td>52</td>\n",
       "      <td>11690</td>\n",
       "    </tr>\n",
       "    <tr>\n",
       "      <th>2</th>\n",
       "      <td>2</td>\n",
       "      <td>53</td>\n",
       "      <td>11351</td>\n",
       "    </tr>\n",
       "    <tr>\n",
       "      <th>3</th>\n",
       "      <td>2</td>\n",
       "      <td>54</td>\n",
       "      <td>10300</td>\n",
       "    </tr>\n",
       "    <tr>\n",
       "      <th>4</th>\n",
       "      <td>2</td>\n",
       "      <td>55</td>\n",
       "      <td>8983</td>\n",
       "    </tr>\n",
       "  </tbody>\n",
       "</table>\n",
       "</div>"
      ],
      "text/plain": [
       "   userID  artistID  weight\n",
       "0       2        51   13883\n",
       "1       2        52   11690\n",
       "2       2        53   11351\n",
       "3       2        54   10300\n",
       "4       2        55    8983"
      ]
     },
     "execution_count": 10,
     "metadata": {},
     "output_type": "execute_result"
    }
   ],
   "source": [
    "user_artists.head()"
   ]
  },
  {
   "cell_type": "code",
   "execution_count": 50,
   "id": "59a77088",
   "metadata": {},
   "outputs": [
    {
     "data": {
      "text/html": [
       "<div>\n",
       "<style scoped>\n",
       "    .dataframe tbody tr th:only-of-type {\n",
       "        vertical-align: middle;\n",
       "    }\n",
       "\n",
       "    .dataframe tbody tr th {\n",
       "        vertical-align: top;\n",
       "    }\n",
       "\n",
       "    .dataframe thead th {\n",
       "        text-align: right;\n",
       "    }\n",
       "</style>\n",
       "<table border=\"1\" class=\"dataframe\">\n",
       "  <thead>\n",
       "    <tr style=\"text-align: right;\">\n",
       "      <th></th>\n",
       "      <th>userID</th>\n",
       "      <th>artistID</th>\n",
       "      <th>weight</th>\n",
       "      <th>log_weight</th>\n",
       "    </tr>\n",
       "  </thead>\n",
       "  <tbody>\n",
       "    <tr>\n",
       "      <th>92829</th>\n",
       "      <td>2100</td>\n",
       "      <td>18726</td>\n",
       "      <td>337</td>\n",
       "      <td>5.823046</td>\n",
       "    </tr>\n",
       "    <tr>\n",
       "      <th>92830</th>\n",
       "      <td>2100</td>\n",
       "      <td>18727</td>\n",
       "      <td>297</td>\n",
       "      <td>5.697093</td>\n",
       "    </tr>\n",
       "    <tr>\n",
       "      <th>92831</th>\n",
       "      <td>2100</td>\n",
       "      <td>18728</td>\n",
       "      <td>281</td>\n",
       "      <td>5.641907</td>\n",
       "    </tr>\n",
       "    <tr>\n",
       "      <th>92832</th>\n",
       "      <td>2100</td>\n",
       "      <td>18729</td>\n",
       "      <td>280</td>\n",
       "      <td>5.638355</td>\n",
       "    </tr>\n",
       "    <tr>\n",
       "      <th>92833</th>\n",
       "      <td>2100</td>\n",
       "      <td>18730</td>\n",
       "      <td>263</td>\n",
       "      <td>5.575949</td>\n",
       "    </tr>\n",
       "  </tbody>\n",
       "</table>\n",
       "</div>"
      ],
      "text/plain": [
       "       userID  artistID  weight  log_weight\n",
       "92829    2100     18726     337    5.823046\n",
       "92830    2100     18727     297    5.697093\n",
       "92831    2100     18728     281    5.641907\n",
       "92832    2100     18729     280    5.638355\n",
       "92833    2100     18730     263    5.575949"
      ]
     },
     "execution_count": 50,
     "metadata": {},
     "output_type": "execute_result"
    }
   ],
   "source": [
    "user_artists.tail()"
   ]
  },
  {
   "cell_type": "code",
   "execution_count": 11,
   "id": "47ae9610",
   "metadata": {},
   "outputs": [
    {
     "name": "stdout",
     "output_type": "stream",
     "text": [
      "<class 'pandas.core.frame.DataFrame'>\n",
      "RangeIndex: 92834 entries, 0 to 92833\n",
      "Data columns (total 3 columns):\n",
      " #   Column    Non-Null Count  Dtype\n",
      "---  ------    --------------  -----\n",
      " 0   userID    92834 non-null  int64\n",
      " 1   artistID  92834 non-null  int64\n",
      " 2   weight    92834 non-null  int64\n",
      "dtypes: int64(3)\n",
      "memory usage: 2.1 MB\n"
     ]
    }
   ],
   "source": [
    "user_artists.info()"
   ]
  },
  {
   "cell_type": "code",
   "execution_count": 12,
   "id": "8761b89d",
   "metadata": {},
   "outputs": [
    {
     "data": {
      "text/html": [
       "<div>\n",
       "<style scoped>\n",
       "    .dataframe tbody tr th:only-of-type {\n",
       "        vertical-align: middle;\n",
       "    }\n",
       "\n",
       "    .dataframe tbody tr th {\n",
       "        vertical-align: top;\n",
       "    }\n",
       "\n",
       "    .dataframe thead th {\n",
       "        text-align: right;\n",
       "    }\n",
       "</style>\n",
       "<table border=\"1\" class=\"dataframe\">\n",
       "  <thead>\n",
       "    <tr style=\"text-align: right;\">\n",
       "      <th></th>\n",
       "      <th>userID</th>\n",
       "      <th>artistID</th>\n",
       "      <th>tagID</th>\n",
       "      <th>timestamp</th>\n",
       "    </tr>\n",
       "  </thead>\n",
       "  <tbody>\n",
       "    <tr>\n",
       "      <th>0</th>\n",
       "      <td>2</td>\n",
       "      <td>52</td>\n",
       "      <td>13</td>\n",
       "      <td>1238536800000</td>\n",
       "    </tr>\n",
       "    <tr>\n",
       "      <th>1</th>\n",
       "      <td>2</td>\n",
       "      <td>52</td>\n",
       "      <td>15</td>\n",
       "      <td>1238536800000</td>\n",
       "    </tr>\n",
       "    <tr>\n",
       "      <th>2</th>\n",
       "      <td>2</td>\n",
       "      <td>52</td>\n",
       "      <td>18</td>\n",
       "      <td>1238536800000</td>\n",
       "    </tr>\n",
       "    <tr>\n",
       "      <th>3</th>\n",
       "      <td>2</td>\n",
       "      <td>52</td>\n",
       "      <td>21</td>\n",
       "      <td>1238536800000</td>\n",
       "    </tr>\n",
       "    <tr>\n",
       "      <th>4</th>\n",
       "      <td>2</td>\n",
       "      <td>52</td>\n",
       "      <td>41</td>\n",
       "      <td>1238536800000</td>\n",
       "    </tr>\n",
       "  </tbody>\n",
       "</table>\n",
       "</div>"
      ],
      "text/plain": [
       "   userID  artistID  tagID      timestamp\n",
       "0       2        52     13  1238536800000\n",
       "1       2        52     15  1238536800000\n",
       "2       2        52     18  1238536800000\n",
       "3       2        52     21  1238536800000\n",
       "4       2        52     41  1238536800000"
      ]
     },
     "execution_count": 12,
     "metadata": {},
     "output_type": "execute_result"
    }
   ],
   "source": [
    "timestamp.head()"
   ]
  },
  {
   "cell_type": "code",
   "execution_count": 13,
   "id": "8c96b45a",
   "metadata": {},
   "outputs": [
    {
     "name": "stdout",
     "output_type": "stream",
     "text": [
      "<class 'pandas.core.frame.DataFrame'>\n",
      "RangeIndex: 186479 entries, 0 to 186478\n",
      "Data columns (total 4 columns):\n",
      " #   Column     Non-Null Count   Dtype\n",
      "---  ------     --------------   -----\n",
      " 0   userID     186479 non-null  int64\n",
      " 1   artistID   186479 non-null  int64\n",
      " 2   tagID      186479 non-null  int64\n",
      " 3   timestamp  186479 non-null  int64\n",
      "dtypes: int64(4)\n",
      "memory usage: 5.7 MB\n"
     ]
    }
   ],
   "source": [
    "timestamp.info()"
   ]
  },
  {
   "cell_type": "code",
   "execution_count": 14,
   "id": "6034b044",
   "metadata": {
    "scrolled": true
   },
   "outputs": [
    {
     "data": {
      "text/html": [
       "<div>\n",
       "<style scoped>\n",
       "    .dataframe tbody tr th:only-of-type {\n",
       "        vertical-align: middle;\n",
       "    }\n",
       "\n",
       "    .dataframe tbody tr th {\n",
       "        vertical-align: top;\n",
       "    }\n",
       "\n",
       "    .dataframe thead th {\n",
       "        text-align: right;\n",
       "    }\n",
       "</style>\n",
       "<table border=\"1\" class=\"dataframe\">\n",
       "  <thead>\n",
       "    <tr style=\"text-align: right;\">\n",
       "      <th></th>\n",
       "      <th>userID</th>\n",
       "      <th>artistID</th>\n",
       "      <th>tagID</th>\n",
       "      <th>day</th>\n",
       "      <th>month</th>\n",
       "      <th>year</th>\n",
       "    </tr>\n",
       "  </thead>\n",
       "  <tbody>\n",
       "    <tr>\n",
       "      <th>0</th>\n",
       "      <td>2</td>\n",
       "      <td>52</td>\n",
       "      <td>13</td>\n",
       "      <td>1</td>\n",
       "      <td>4</td>\n",
       "      <td>2009</td>\n",
       "    </tr>\n",
       "    <tr>\n",
       "      <th>1</th>\n",
       "      <td>2</td>\n",
       "      <td>52</td>\n",
       "      <td>15</td>\n",
       "      <td>1</td>\n",
       "      <td>4</td>\n",
       "      <td>2009</td>\n",
       "    </tr>\n",
       "    <tr>\n",
       "      <th>2</th>\n",
       "      <td>2</td>\n",
       "      <td>52</td>\n",
       "      <td>18</td>\n",
       "      <td>1</td>\n",
       "      <td>4</td>\n",
       "      <td>2009</td>\n",
       "    </tr>\n",
       "    <tr>\n",
       "      <th>3</th>\n",
       "      <td>2</td>\n",
       "      <td>52</td>\n",
       "      <td>21</td>\n",
       "      <td>1</td>\n",
       "      <td>4</td>\n",
       "      <td>2009</td>\n",
       "    </tr>\n",
       "    <tr>\n",
       "      <th>4</th>\n",
       "      <td>2</td>\n",
       "      <td>52</td>\n",
       "      <td>41</td>\n",
       "      <td>1</td>\n",
       "      <td>4</td>\n",
       "      <td>2009</td>\n",
       "    </tr>\n",
       "  </tbody>\n",
       "</table>\n",
       "</div>"
      ],
      "text/plain": [
       "   userID  artistID  tagID  day  month  year\n",
       "0       2        52     13    1      4  2009\n",
       "1       2        52     15    1      4  2009\n",
       "2       2        52     18    1      4  2009\n",
       "3       2        52     21    1      4  2009\n",
       "4       2        52     41    1      4  2009"
      ]
     },
     "execution_count": 14,
     "metadata": {},
     "output_type": "execute_result"
    }
   ],
   "source": [
    "user_taggedartists.head()"
   ]
  },
  {
   "cell_type": "code",
   "execution_count": 15,
   "id": "058b4f89",
   "metadata": {},
   "outputs": [
    {
     "name": "stdout",
     "output_type": "stream",
     "text": [
      "<class 'pandas.core.frame.DataFrame'>\n",
      "RangeIndex: 186479 entries, 0 to 186478\n",
      "Data columns (total 6 columns):\n",
      " #   Column    Non-Null Count   Dtype\n",
      "---  ------    --------------   -----\n",
      " 0   userID    186479 non-null  int64\n",
      " 1   artistID  186479 non-null  int64\n",
      " 2   tagID     186479 non-null  int64\n",
      " 3   day       186479 non-null  int64\n",
      " 4   month     186479 non-null  int64\n",
      " 5   year      186479 non-null  int64\n",
      "dtypes: int64(6)\n",
      "memory usage: 8.5 MB\n"
     ]
    }
   ],
   "source": [
    "user_taggedartists.info()"
   ]
  },
  {
   "cell_type": "code",
   "execution_count": 16,
   "id": "d166b687",
   "metadata": {},
   "outputs": [
    {
     "name": "stdout",
     "output_type": "stream",
     "text": [
      " # Unique User : 1892\n"
     ]
    }
   ],
   "source": [
    "print(f\" # Unique User : {user_artists['userID'].nunique()}\")"
   ]
  },
  {
   "cell_type": "code",
   "execution_count": 17,
   "id": "c0950586",
   "metadata": {},
   "outputs": [
    {
     "name": "stdout",
     "output_type": "stream",
     "text": [
      " # Unique Artist : 17632\n"
     ]
    }
   ],
   "source": [
    "print(f\" # Unique Artist : {artist['id'].nunique()}\")"
   ]
  },
  {
   "cell_type": "code",
   "execution_count": 18,
   "id": "f2753d3d",
   "metadata": {},
   "outputs": [
    {
     "name": "stdout",
     "output_type": "stream",
     "text": [
      " # Unique Tag : 11946\n"
     ]
    }
   ],
   "source": [
    "print(f\" # Unique Tag : {tags['tagValue'].nunique()}\")"
   ]
  },
  {
   "cell_type": "code",
   "execution_count": 19,
   "id": "3a0a7051",
   "metadata": {},
   "outputs": [
    {
     "name": "stdout",
     "output_type": "stream",
     "text": [
      " # Unique Tag : 9749\n",
      " # Unique Tag : 9749\n"
     ]
    }
   ],
   "source": [
    "print(f\" # Unique Tag : {user_taggedartists['tagID'].nunique()}\")\n",
    "print(f\" # Unique Tag : {timestamp['tagID'].nunique()}\")"
   ]
  },
  {
   "cell_type": "markdown",
   "id": "7b0a3c83",
   "metadata": {},
   "source": [
    "#### 2. Quaility check"
   ]
  },
  {
   "cell_type": "markdown",
   "id": "d3e81c75",
   "metadata": {},
   "source": [
    "2.1 Duplicate value"
   ]
  },
  {
   "cell_type": "code",
   "execution_count": 20,
   "id": "4d3ae497",
   "metadata": {},
   "outputs": [
    {
     "name": "stdout",
     "output_type": "stream",
     "text": [
      "0        False\n",
      "1        False\n",
      "2        False\n",
      "3        False\n",
      "4        False\n",
      "         ...  \n",
      "17627    False\n",
      "17628    False\n",
      "17629    False\n",
      "17630    False\n",
      "17631    False\n",
      "Length: 17632, dtype: bool\n",
      "0\n",
      "0\n",
      "0\n",
      "0\n",
      "0\n",
      "0\n"
     ]
    }
   ],
   "source": [
    "duplicates_artist = artist.duplicated()\n",
    "print(duplicates_artist)\n",
    "duplicates_tags = tags.duplicated()\n",
    "print(duplicates_tags.sum())\n",
    "duplicates_u_a = user_artists.duplicated()\n",
    "print(duplicates_u_a.sum())\n",
    "duplicates_u_f =user_friends.duplicated()\n",
    "print(duplicates_u_f.sum())\n",
    "duplicates_time =timestamp.duplicated()\n",
    "print(duplicates_u_f.sum())\n",
    "duplicates_time =timestamp.duplicated()\n",
    "print(duplicates_time.sum())\n",
    "duplicates_u_t =user_taggedartists.duplicated()\n",
    "print(duplicates_u_t.sum())"
   ]
  },
  {
   "cell_type": "markdown",
   "id": "5dc4f967",
   "metadata": {},
   "source": [
    "2.2 Data types"
   ]
  },
  {
   "cell_type": "code",
   "execution_count": 21,
   "id": "a5e09830",
   "metadata": {},
   "outputs": [
    {
     "name": "stdout",
     "output_type": "stream",
     "text": [
      "id             int64\n",
      "name          object\n",
      "url           object\n",
      "pictureURL    object\n",
      "dtype: object\n",
      "tagID        int64\n",
      "tagValue    object\n",
      "dtype: object\n",
      "userID      int64\n",
      "artistID    int64\n",
      "weight      int64\n",
      "dtype: object\n",
      "userID      int64\n",
      "friendID    int64\n",
      "dtype: object\n",
      "userID       int64\n",
      "artistID     int64\n",
      "tagID        int64\n",
      "timestamp    int64\n",
      "dtype: object\n",
      "userID      int64\n",
      "artistID    int64\n",
      "tagID       int64\n",
      "day         int64\n",
      "month       int64\n",
      "year        int64\n",
      "dtype: object\n"
     ]
    }
   ],
   "source": [
    "print(artist.dtypes)\n",
    "print(tags.dtypes)\n",
    "print(user_artists.dtypes)\n",
    "print(user_friends.dtypes)\n",
    "print(timestamp.dtypes)\n",
    "print(user_taggedartists.dtypes)"
   ]
  },
  {
   "cell_type": "markdown",
   "id": "20f32a9a",
   "metadata": {},
   "source": [
    "2.3 Missing values"
   ]
  },
  {
   "cell_type": "code",
   "execution_count": 22,
   "id": "cbe557fe",
   "metadata": {},
   "outputs": [
    {
     "name": "stdout",
     "output_type": "stream",
     "text": [
      "Empty DataFrame\n",
      "Columns: [userID, artistID, weight]\n",
      "Index: []\n"
     ]
    }
   ],
   "source": [
    "missing_artists = ~user_artists['artistID'].isin(artist['id'])\n",
    "print(user_artists[missing_artists])"
   ]
  },
  {
   "cell_type": "markdown",
   "id": "90436bcb",
   "metadata": {},
   "source": [
    "2.4 Data analysis"
   ]
  },
  {
   "cell_type": "code",
   "execution_count": 23,
   "id": "c3c3ace2",
   "metadata": {},
   "outputs": [
    {
     "data": {
      "image/png": "[encoded data removed]",
      "text/plain": [
       "<Figure size 1000x600 with 1 Axes>"
      ]
     },
     "metadata": {},
     "output_type": "display_data"
    }
   ],
   "source": [
    "tag_usage = user_taggedartists.groupby('tagID').size().sort_values(ascending=False)\n",
    "\n",
    "plt.figure(figsize=(10, 6))\n",
    "tag_usage.head(20).plot(kind='bar')\n",
    "plt.title('Top 20 Most Popular Tags')\n",
    "plt.xlabel('Tag ID')\n",
    "plt.ylabel('Number of Uses')\n",
    "plt.show()"
   ]
  },
  {
   "cell_type": "code",
   "execution_count": 24,
   "id": "d30067c0",
   "metadata": {},
   "outputs": [
    {
     "data": {
      "image/png": "[encoded data removed]",
      "text/plain": [
       "<Figure size 1000x600 with 1 Axes>"
      ]
     },
     "metadata": {},
     "output_type": "display_data"
    }
   ],
   "source": [
    "#Total play counts of every artist\n",
    "artist_popularity = user_artists.groupby('artistID')['weight'].sum().sort_values(ascending=False)\n",
    "\n",
    "#Plots of Top 20 Most Popular Artists\n",
    "plt.figure(figsize=(10, 6))\n",
    "artist_popularity.head(20).plot(kind='bar')\n",
    "plt.title('Top 20 Most Popular Artists by Play Counts')\n",
    "plt.xlabel('Artist ID')\n",
    "plt.ylabel('Total Play Counts')\n",
    "plt.show()"
   ]
  },
  {
   "cell_type": "code",
   "execution_count": 25,
   "id": "f7ebfe92",
   "metadata": {},
   "outputs": [
    {
     "data": {
      "image/png": "[encoded data removed]",
      "text/plain": [
       "<Figure size 1000x600 with 1 Axes>"
      ]
     },
     "metadata": {},
     "output_type": "display_data"
    }
   ],
   "source": [
    "#Total play counts of every user\n",
    "user_activity = user_artists.groupby('userID')['weight'].sum().sort_values(ascending=False)\n",
    "\n",
    "#Top 20 Most Active Users by Play Counts\n",
    "plt.figure(figsize=(10, 6))\n",
    "user_activity.head(20).plot(kind='bar')\n",
    "plt.title('Top 20 Most Active Users by Play Counts')\n",
    "plt.xlabel('User ID')\n",
    "plt.ylabel('Total Play Counts')\n",
    "plt.show()"
   ]
  },
  {
   "cell_type": "code",
   "execution_count": 26,
   "id": "02de3e4d",
   "metadata": {},
   "outputs": [
    {
     "name": "stdout",
     "output_type": "stream",
     "text": [
      "Number of artists with exactly one play count: 129\n"
     ]
    }
   ],
   "source": [
    "single_play_artists = (artist_popularity == 1).sum()\n",
    "\n",
    "print(f\"Number of artists with exactly one play count: {single_play_artists}\")"
   ]
  },
  {
   "cell_type": "code",
   "execution_count": 27,
   "id": "2ffbb649",
   "metadata": {},
   "outputs": [
    {
     "data": {
      "text/plain": [
       "name\n",
       "Britney Spears        329\n",
       "Christina Aguilera    282\n",
       "Depeche Mode          260\n",
       "Lady Gaga             257\n",
       "Madonna               249\n",
       "Michael Jackson       199\n",
       "Duran Duran           185\n",
       "Rihanna               183\n",
       "The Beatles           178\n",
       "Kylie Minogue         173\n",
       "Name: tagValue, dtype: int64"
      ]
     },
     "execution_count": 27,
     "metadata": {},
     "output_type": "execute_result"
    }
   ],
   "source": [
    "tagged_data = pd.merge(user_taggedartists, artist, left_on='artistID', right_on='id')\n",
    "tagged_data = pd.merge(tagged_data, tags, left_on='tagID', right_on='tagID')\n",
    "artist_tag_diversity = tagged_data.groupby('name')['tagValue'].nunique().sort_values(ascending=False)\n",
    "artist_tag_diversity.head(10)"
   ]
  },
  {
   "cell_type": "code",
   "execution_count": 28,
   "id": "05258c16",
   "metadata": {},
   "outputs": [
    {
     "data": {
      "image/png": "[encoded data removed]",
      "text/plain": [
       "<Figure size 1200x800 with 1 Axes>"
      ]
     },
     "metadata": {},
     "output_type": "display_data"
    }
   ],
   "source": [
    "plt.figure(figsize=(12, 8))\n",
    "artist_tag_diversity.head(20).plot(kind='bar')\n",
    "plt.title('Top 20 Artists with the Most Diverse Tags')\n",
    "plt.xlabel('Artist Name')\n",
    "plt.ylabel('Number of Unique Tags')\n",
    "plt.xticks(rotation=45)\n",
    "plt.show()\n"
   ]
  },
  {
   "cell_type": "code",
   "execution_count": 29,
   "id": "27487558",
   "metadata": {},
   "outputs": [
    {
     "name": "stdout",
     "output_type": "stream",
     "text": [
      "Number of artists with exactly one tag: 1708\n"
     ]
    }
   ],
   "source": [
    "single_tag_count = (artist_tag_diversity == 1).sum()\n",
    "\n",
    "print(\"Number of artists with exactly one tag:\", single_tag_count)"
   ]
  },
  {
   "cell_type": "code",
   "execution_count": 30,
   "id": "1c6ca68a",
   "metadata": {},
   "outputs": [
    {
     "data": {
      "image/png": "[encoded data removed]",
      "text/plain": [
       "<Figure size 1000x600 with 1 Axes>"
      ]
     },
     "metadata": {},
     "output_type": "display_data"
    }
   ],
   "source": [
    "import seaborn as sns\n",
    "user_artists['log_weight'] = np.log1p(user_artists['weight'])  # 使用log1p以处理零值\n",
    "\n",
    "plt.figure(figsize=(10, 6))\n",
    "sns.histplot(data=user_artists, x='log_weight', bins=100, kde=True)  # 使用更多的区间\n",
    "plt.title('Distribution of Log Play Counts')\n",
    "plt.xlabel('Log Play Counts')\n",
    "plt.ylabel('Frequency')\n",
    "plt.show()"
   ]
  },
  {
   "cell_type": "code",
   "execution_count": 31,
   "id": "a3baaafb",
   "metadata": {},
   "outputs": [
    {
     "data": {
      "image/png": "[encoded data removed]",
      "text/plain": [
       "<Figure size 1000x600 with 1 Axes>"
      ]
     },
     "metadata": {},
     "output_type": "display_data"
    }
   ],
   "source": [
    "# total counts of playing\n",
    "artist_plays = user_artists.groupby('artistID')['weight'].sum().reset_index()\n",
    "\n",
    "# number of tags\n",
    "artist_tags = user_taggedartists.groupby('artistID')['tagID'].nunique().reset_index()\n",
    "\n",
    "# merge dataset\n",
    "artist_data = pd.merge(artist_plays, artist_tags, on='artistID', how='inner')\n",
    "\n",
    "plt.figure(figsize=(10, 6))\n",
    "sns.scatterplot(data=artist_data, x='tagID', y='weight', alpha=0.6)\n",
    "plt.title('Relationship between Number of Tags and Total Play Counts per Artist')\n",
    "plt.xlabel('Number of Unique Tags')\n",
    "plt.ylabel('Total Play Counts')\n",
    "plt.show()"
   ]
  },
  {
   "cell_type": "markdown",
   "id": "4faf9be4",
   "metadata": {},
   "source": [
    "#### 3. Pre-processing"
   ]
  },
  {
   "cell_type": "code",
   "execution_count": 45,
   "id": "b3e70e3d",
   "metadata": {},
   "outputs": [],
   "source": [
    "num_user = 1892\n",
    "num_artist = 17632\n",
    "num_tag = 11946"
   ]
  },
  {
   "cell_type": "code",
   "execution_count": 46,
   "id": "98019772",
   "metadata": {},
   "outputs": [],
   "source": [
    "train_val_test_idx = np.load('data2/train_val_test_idx.npz')\n",
    "train_idx = train_val_test_idx['train_idx']\n",
    "val_idx = train_val_test_idx['val_idx']\n",
    "test_idx = train_val_test_idx['test_idx']\n",
    " \n",
    "user_artist = user_artists.loc[train_idx].reset_index(drop=True)"
   ]
  },
  {
   "cell_type": "code",
   "execution_count": 47,
   "id": "7e0e67ba",
   "metadata": {},
   "outputs": [
    {
     "name": "stdout",
     "output_type": "stream",
     "text": [
      "['train_idx', 'val_idx', 'test_idx']\n",
      "train_idx: [    0     1     2 ... 92831 92832 92833]\n",
      "val_idx: [  151   310   313 ... 92798 92804 92810]\n",
      "test_idx: [  102   103   104 ... 92817 92824 92825]\n"
     ]
    }
   ],
   "source": [
    "print(train_val_test_idx.files)\n",
    "\n",
    "for key in train_val_test_idx.files:\n",
    "    print(f\"{key}: {train_val_test_idx[key]}\")"
   ]
  },
  {
   "cell_type": "code",
   "execution_count": 48,
   "id": "78a449d5",
   "metadata": {},
   "outputs": [
    {
     "name": "stdout",
     "output_type": "stream",
     "text": [
      "Training set ratio: 0.70\n",
      "Validation set ratio: 0.10\n",
      "Test set ratio: 0.20\n"
     ]
    }
   ],
   "source": [
    "num_train = len(train_idx)\n",
    "num_val = len(val_idx)\n",
    "num_test = len(test_idx)\n",
    "\n",
    "total = num_train + num_val + num_test\n",
    "\n",
    "train_ratio = num_train / total\n",
    "val_ratio = num_val / total\n",
    "test_ratio = num_test / total\n",
    "\n",
    "print(f\"Training set ratio: {train_ratio:.2f}\")\n",
    "print(f\"Validation set ratio: {val_ratio:.2f}\")\n",
    "print(f\"Test set ratio: {test_ratio:.2f}\")"
   ]
  },
  {
   "cell_type": "code",
   "execution_count": 53,
   "id": "d3630eed",
   "metadata": {},
   "outputs": [
    {
     "name": "stdout",
     "output_type": "stream",
     "text": [
      "31470\n"
     ]
    }
   ],
   "source": [
    "# build the adjacency matrix\n",
    "# 0 for user, 1 for artist, 2 for tag\n",
    "dim = num_user + num_artist + num_tag\n",
    "type_mask = np.zeros((dim), dtype=int)\n",
    "type_mask[num_user:num_user+num_artist] = 1\n",
    "type_mask[num_user+num_artist:] = 2\n",
    "\n",
    "adjM = np.zeros((dim, dim), dtype=int)\n",
    "print(dim)"
   ]
  },
  {
   "cell_type": "code",
   "execution_count": null,
   "id": "0dde05c3",
   "metadata": {},
   "outputs": [],
   "source": [
    "for _, row in user_artist.iterrows():\n",
    "    uid = row['userID'] - 1\n",
    "    aid = num_user + row['artistID'] - 1\n",
    "    adjM[uid, aid] = max(1, row['weight'])\n",
    "    adjM[aid, uid] = max(1, row['weight'])\n",
    "for _, row in user_friend.iterrows():\n",
    "    uid = row['userID'] - 2\n",
    "    fid = row['friendID'] - 2\n",
    "    adjM[uid, fid] = 1\n",
    "for _, row in artist_tag.iterrows():\n",
    "    aid = num_user + row['artistID'] - 1\n",
    "    tid = num_user + num_artist + row['tagID'] - 1\n",
    "    adjM[aid, tid] += 1\n",
    "    adjM[tid, aid] += 1"
   ]
  },
  {
   "cell_type": "code",
   "execution_count": null,
   "id": "ae774c6c",
   "metadata": {},
   "outputs": [],
   "source": []
  },
  {
   "cell_type": "code",
   "execution_count": null,
   "id": "9a27bc95",
   "metadata": {},
   "outputs": [],
   "source": [
    "\n",
    "\n",
    "# Initialize the module\n",
    "\n",
    "attention_layer = GraphAttention(128, 8, 0.1)\n",
    "\n",
    "# Create a dummy input tensor\n",
    "dummy_input = torch.randn(1, 10, 128)  # Example: 1 batch, 10 sequence length, 128 features\n",
    "\n",
    "# Forward pass through the attention layer\n",
    "output = attention_layer(dummy_input)\n",
    "\n",
    "# Visualize the computation graph\n",
    "dot = make_dot(output, params=dict(attention_layer.named_parameters()))\n",
    "dot.render('graph_attention_visualization', format='png')\n",
    "print(\"Visualization has been saved to 'graph_attention_visualization.png'\")"
   ]
  },
  {
   "cell_type": "code",
   "execution_count": null,
   "id": "ada828df",
   "metadata": {},
   "outputs": [],
   "source": [
    "model = MAGNN(num_user_features, num_music_features, 128, 128, 8, 0.2, BATCH_SIZE)"
   ]
  },
  {
   "cell_type": "code",
   "execution_count": null,
   "id": "d31a3af3",
   "metadata": {},
   "outputs": [],
   "source": [
    "criterion = nn.BCELoss()\n",
    "optimizer = torch.optim.Adam(model.parameters(), lr=2e-5, weight_decay=2e-7)"
   ]
  },
  {
   "cell_type": "code",
   "execution_count": null,
   "id": "800905b5",
   "metadata": {},
   "outputs": [],
   "source": [
    "def train(epoch: int):\n",
    "    losses = []\n",
    "    accs = []\n",
    "\n",
    "    model.train()\n",
    "    progress_bar = tqdm(train_loader, f\"Epoch {epoch}\")\n",
    "    for batch in progress_bar:\n",
    "        edge, label, umetapath1, umetapath2, umetapath3, mmetapath1, mmetapath2, mmetapath3 = batch\n",
    "        edge, label, umetapath1, umetapath2, umetapath3, mmetapath1, mmetapath2, mmetapath3 = \\\n",
    "            edge.to(device), label.to(device), umetapath1.to(device), umetapath2.to(device), umetapath3.to(\n",
    "                device), mmetapath1.to(device), mmetapath2.to(device), mmetapath3.to(device)\n",
    "\n",
    "        optimizer.zero_grad()\n",
    "\n",
    "        out = model(edge, umetapath1, umetapath2, umetapath3, mmetapath1, mmetapath2, mmetapath3)\n",
    "\n",
    "        pred = (out > 0.5)\n",
    "\n",
    "        loss = criterion(out, label)\n",
    "        acc = (pred == label).sum() / BATCH_SIZE\n",
    "\n",
    "        losses.append(loss.item())\n",
    "        accs.append(acc.cpu())\n",
    "\n",
    "        loss.backward()\n",
    "        optimizer.step()\n",
    "\n",
    "        progress_bar.set_description(f\"Epoch {epoch}, Loss: {np.mean(losses):.5f}, Acc: {np.mean(accs):.5f}\")\n",
    "\n",
    "    return np.mean(losses)\n",
    "\n",
    "\n",
    "def validate(epoch: int):\n",
    "    losses = []\n",
    "    accs = []\n",
    "\n",
    "    model.eval()\n",
    "    progress_bar = tqdm(test_loader)\n",
    "    for batch in progress_bar:\n",
    "        edge, label, umetapath1, umetapath2, umetapath3, mmetapath1, mmetapath2, mmetapath3 = batch\n",
    "        edge, label, umetapath1, umetapath2, umetapath3, mmetapath1, mmetapath2, mmetapath3 = \\\n",
    "            edge.to(device), label.to(device), umetapath1.to(device), umetapath2.to(device), umetapath3.to(\n",
    "                device), mmetapath1.to(device), mmetapath2.to(device), mmetapath3.to(device)\n",
    "\n",
    "\n",
    "        out = model(edge, umetapath1, umetapath2, umetapath3, mmetapath1, mmetapath2, mmetapath3)\n",
    "\n",
    "        pred = (out > 0.5)  \n",
    "\n",
    "        loss = criterion(out, label)\n",
    "        acc = (pred == label).sum() / BATCH_SIZE\n",
    "\n",
    "        losses.append(loss.item())\n",
    "        accs.append(acc.cpu())\n",
    "\n",
    "        progress_bar.set_description(f\"Validation Epoch {epoch}, Loss: {np.mean(losses):.5f}, Acc: {np.mean(accs):.5f}\")\n",
    "\n",
    "    return np.mean(losses)"
   ]
  },
  {
   "cell_type": "code",
   "execution_count": 27,
   "id": "39a42c9d",
   "metadata": {
    "colab": {
     "background_save": true,
     "base_uri": "https://localhost:8080/"
    },
    "id": "y2YnGT7RWeed",
    "outputId": "4facf28c-49da-49a7-96b9-8ad08481b0a1"
   },
   "outputs": [
    {
     "name": "stderr",
     "output_type": "stream",
     "text": [
      "Epoch 0, Loss: 0.68126, Acc: 0.53433: 100%|██████████| 2031/2031 [01:40<00:00, 20.30it/s]\n",
      "Validation Epoch 0, Loss: 0.47337, Acc: 0.84544: 100%|██████████| 581/581 [00:49<00:00, 11.68it/s]\n"
     ]
    },
    {
     "name": "stdout",
     "output_type": "stream",
     "text": [
      "\n"
     ]
    },
    {
     "name": "stderr",
     "output_type": "stream",
     "text": [
      "Epoch 1, Loss: 0.58585, Acc: 0.72620: 100%|██████████| 2031/2031 [01:36<00:00, 21.15it/s]\n",
      "Validation Epoch 1, Loss: 0.46960, Acc: 0.84445: 100%|██████████| 581/581 [00:15<00:00, 37.91it/s]\n"
     ]
    },
    {
     "name": "stdout",
     "output_type": "stream",
     "text": [
      "\n"
     ]
    },
    {
     "name": "stderr",
     "output_type": "stream",
     "text": [
      "Epoch 2, Loss: 0.58429, Acc: 0.72660: 100%|██████████| 2031/2031 [01:34<00:00, 21.45it/s]\n",
      "Validation Epoch 2, Loss: 0.46337, Acc: 0.84289: 100%|██████████| 581/581 [00:14<00:00, 40.00it/s]\n"
     ]
    },
    {
     "name": "stdout",
     "output_type": "stream",
     "text": [
      "\n"
     ]
    },
    {
     "name": "stderr",
     "output_type": "stream",
     "text": [
      "Epoch 3, Loss: 0.58263, Acc: 0.72637: 100%|██████████| 2031/2031 [01:35<00:00, 21.23it/s]\n",
      "Validation Epoch 3, Loss: 0.46120, Acc: 0.84472: 100%|██████████| 581/581 [00:14<00:00, 40.21it/s]\n"
     ]
    },
    {
     "name": "stdout",
     "output_type": "stream",
     "text": [
      "\n"
     ]
    },
    {
     "name": "stderr",
     "output_type": "stream",
     "text": [
      "Epoch 4, Loss: 0.58197, Acc: 0.72723: 100%|██████████| 2031/2031 [01:35<00:00, 21.21it/s]\n",
      "Validation Epoch 4, Loss: 0.45175, Acc: 0.84445: 100%|██████████| 581/581 [00:14<00:00, 38.92it/s]\n"
     ]
    },
    {
     "name": "stdout",
     "output_type": "stream",
     "text": [
      "\n"
     ]
    },
    {
     "name": "stderr",
     "output_type": "stream",
     "text": [
      "Epoch 5, Loss: 0.58105, Acc: 0.72710: 100%|██████████| 2031/2031 [01:35<00:00, 21.35it/s]\n",
      "Validation Epoch 5, Loss: 0.45130, Acc: 0.84690: 100%|██████████| 581/581 [00:14<00:00, 40.34it/s]\n"
     ]
    },
    {
     "name": "stdout",
     "output_type": "stream",
     "text": [
      "\n"
     ]
    },
    {
     "name": "stderr",
     "output_type": "stream",
     "text": [
      "Epoch 6, Loss: 0.58028, Acc: 0.72702: 100%|██████████| 2031/2031 [01:34<00:00, 21.40it/s]\n",
      "Validation Epoch 6, Loss: 0.44643, Acc: 0.84518: 100%|██████████| 581/581 [00:13<00:00, 41.55it/s]\n"
     ]
    },
    {
     "name": "stdout",
     "output_type": "stream",
     "text": [
      "\n"
     ]
    },
    {
     "name": "stderr",
     "output_type": "stream",
     "text": [
      "Epoch 7, Loss: 0.57936, Acc: 0.72689: 100%|██████████| 2031/2031 [01:43<00:00, 19.57it/s]\n",
      "Validation Epoch 7, Loss: 0.45396, Acc: 0.83886: 100%|██████████| 581/581 [00:16<00:00, 35.02it/s]\n"
     ]
    },
    {
     "name": "stdout",
     "output_type": "stream",
     "text": [
      "\n"
     ]
    },
    {
     "name": "stderr",
     "output_type": "stream",
     "text": [
      "Epoch 8, Loss: 0.57753, Acc: 0.72745: 100%|██████████| 2031/2031 [01:46<00:00, 19.04it/s]\n",
      "Validation Epoch 8, Loss: 0.43218, Acc: 0.84523: 100%|██████████| 581/581 [00:15<00:00, 37.68it/s]\n"
     ]
    },
    {
     "name": "stdout",
     "output_type": "stream",
     "text": [
      "\n"
     ]
    },
    {
     "name": "stderr",
     "output_type": "stream",
     "text": [
      "Epoch 9, Loss: 0.57483, Acc: 0.72764: 100%|██████████| 2031/2031 [01:43<00:00, 19.71it/s]\n",
      "Validation Epoch 9, Loss: 0.43252, Acc: 0.84585: 100%|██████████| 581/581 [00:16<00:00, 35.58it/s]\n"
     ]
    },
    {
     "name": "stdout",
     "output_type": "stream",
     "text": [
      "\n"
     ]
    },
    {
     "name": "stderr",
     "output_type": "stream",
     "text": [
      "Epoch 10, Loss: 0.57173, Acc: 0.72673: 100%|██████████| 2031/2031 [01:47<00:00, 18.94it/s]\n",
      "Validation Epoch 10, Loss: 0.43142, Acc: 0.84907: 100%|██████████| 581/581 [00:16<00:00, 35.08it/s]\n"
     ]
    },
    {
     "name": "stdout",
     "output_type": "stream",
     "text": [
      "\n"
     ]
    },
    {
     "name": "stderr",
     "output_type": "stream",
     "text": [
      "Epoch 11, Loss: 0.56997, Acc: 0.72722: 100%|██████████| 2031/2031 [01:45<00:00, 19.33it/s]\n",
      "Validation Epoch 11, Loss: 0.43566, Acc: 0.84940: 100%|██████████| 581/581 [00:16<00:00, 35.53it/s]\n"
     ]
    },
    {
     "name": "stdout",
     "output_type": "stream",
     "text": [
      "\n"
     ]
    },
    {
     "name": "stderr",
     "output_type": "stream",
     "text": [
      "Epoch 12, Loss: 0.56903, Acc: 0.72709: 100%|██████████| 2031/2031 [01:44<00:00, 19.44it/s]\n",
      "Validation Epoch 12, Loss: 0.44125, Acc: 0.84768: 100%|██████████| 581/581 [00:13<00:00, 42.10it/s]\n"
     ]
    },
    {
     "name": "stdout",
     "output_type": "stream",
     "text": [
      "\n"
     ]
    },
    {
     "name": "stderr",
     "output_type": "stream",
     "text": [
      "Epoch 13, Loss: 0.56776, Acc: 0.72734: 100%|██████████| 2031/2031 [01:38<00:00, 20.70it/s]\n",
      "Validation Epoch 13, Loss: 0.44490, Acc: 0.84725: 100%|██████████| 581/581 [00:16<00:00, 34.98it/s]\n"
     ]
    },
    {
     "name": "stdout",
     "output_type": "stream",
     "text": [
      "\n"
     ]
    },
    {
     "name": "stderr",
     "output_type": "stream",
     "text": [
      "Epoch 14, Loss: 0.56697, Acc: 0.72762: 100%|██████████| 2031/2031 [01:39<00:00, 20.33it/s]\n",
      "Validation Epoch 14, Loss: 0.44679, Acc: 0.84690: 100%|██████████| 581/581 [00:14<00:00, 39.43it/s]\n"
     ]
    },
    {
     "name": "stdout",
     "output_type": "stream",
     "text": [
      "\n"
     ]
    },
    {
     "name": "stderr",
     "output_type": "stream",
     "text": [
      "Epoch 15, Loss: 0.56635, Acc: 0.72804: 100%|██████████| 2031/2031 [01:36<00:00, 21.01it/s]\n",
      "Validation Epoch 15, Loss: 0.43817, Acc: 0.84752: 100%|██████████| 581/581 [00:14<00:00, 39.53it/s]\n"
     ]
    },
    {
     "name": "stdout",
     "output_type": "stream",
     "text": [
      "\n"
     ]
    },
    {
     "name": "stderr",
     "output_type": "stream",
     "text": [
      "Epoch 16, Loss: 0.56589, Acc: 0.72795: 100%|██████████| 2031/2031 [01:36<00:00, 20.97it/s]\n",
      "Validation Epoch 16, Loss: 0.43437, Acc: 0.84827: 100%|██████████| 581/581 [00:14<00:00, 40.31it/s]\n"
     ]
    },
    {
     "name": "stdout",
     "output_type": "stream",
     "text": [
      "\n"
     ]
    },
    {
     "name": "stderr",
     "output_type": "stream",
     "text": [
      "Epoch 17, Loss: 0.56555, Acc: 0.72811: 100%|██████████| 2031/2031 [01:36<00:00, 21.12it/s]\n",
      "Validation Epoch 17, Loss: 0.43870, Acc: 0.84921: 100%|██████████| 581/581 [00:14<00:00, 39.59it/s]\n"
     ]
    },
    {
     "name": "stdout",
     "output_type": "stream",
     "text": [
      "\n"
     ]
    },
    {
     "name": "stderr",
     "output_type": "stream",
     "text": [
      "Epoch 18, Loss: 0.56509, Acc: 0.72790: 100%|██████████| 2031/2031 [01:41<00:00, 20.09it/s]\n",
      "Validation Epoch 18, Loss: 0.43902, Acc: 0.84727: 100%|██████████| 581/581 [00:18<00:00, 31.91it/s]\n"
     ]
    },
    {
     "name": "stdout",
     "output_type": "stream",
     "text": [
      "\n"
     ]
    },
    {
     "name": "stderr",
     "output_type": "stream",
     "text": [
      "Epoch 19, Loss: 0.56474, Acc: 0.72836: 100%|██████████| 2031/2031 [01:44<00:00, 19.43it/s]\n",
      "Validation Epoch 19, Loss: 0.43459, Acc: 0.84851: 100%|██████████| 581/581 [00:16<00:00, 35.02it/s]\n"
     ]
    },
    {
     "name": "stdout",
     "output_type": "stream",
     "text": [
      "\n"
     ]
    },
    {
     "name": "stderr",
     "output_type": "stream",
     "text": [
      "Epoch 20, Loss: 0.56483, Acc: 0.72866: 100%|██████████| 2031/2031 [01:37<00:00, 20.74it/s]\n",
      "Validation Epoch 20, Loss: 0.44437, Acc: 0.84797: 100%|██████████| 581/581 [00:17<00:00, 34.13it/s]\n"
     ]
    },
    {
     "name": "stdout",
     "output_type": "stream",
     "text": [
      "\n"
     ]
    },
    {
     "name": "stderr",
     "output_type": "stream",
     "text": [
      "Epoch 21, Loss: 0.56429, Acc: 0.72867: 100%|██████████| 2031/2031 [01:45<00:00, 19.21it/s]\n",
      "Validation Epoch 21, Loss: 0.44366, Acc: 0.84727: 100%|██████████| 581/581 [00:16<00:00, 35.00it/s]\n"
     ]
    },
    {
     "name": "stdout",
     "output_type": "stream",
     "text": [
      "\n"
     ]
    },
    {
     "name": "stderr",
     "output_type": "stream",
     "text": [
      "Epoch 22, Loss: 0.56395, Acc: 0.72935: 100%|██████████| 2031/2031 [01:42<00:00, 19.74it/s]\n",
      "Validation Epoch 22, Loss: 0.44046, Acc: 0.84488: 100%|██████████| 581/581 [00:05<00:00, 109.92it/s]\n"
     ]
    },
    {
     "name": "stdout",
     "output_type": "stream",
     "text": [
      "\n"
     ]
    },
    {
     "name": "stderr",
     "output_type": "stream",
     "text": [
      "Epoch 23, Loss: 0.56400, Acc: 0.72921: 100%|██████████| 2031/2031 [00:43<00:00, 46.95it/s]\n",
      "Validation Epoch 23, Loss: 0.43362, Acc: 0.84832: 100%|██████████| 581/581 [00:04<00:00, 122.90it/s]\n"
     ]
    },
    {
     "name": "stdout",
     "output_type": "stream",
     "text": [
      "\n"
     ]
    },
    {
     "name": "stderr",
     "output_type": "stream",
     "text": [
      "Epoch 24, Loss: 0.56372, Acc: 0.72939: 100%|██████████| 2031/2031 [00:40<00:00, 49.63it/s]\n",
      "Validation Epoch 24, Loss: 0.43695, Acc: 0.84889: 100%|██████████| 581/581 [00:04<00:00, 121.66it/s]\n"
     ]
    },
    {
     "name": "stdout",
     "output_type": "stream",
     "text": [
      "\n"
     ]
    },
    {
     "name": "stderr",
     "output_type": "stream",
     "text": [
      "Epoch 25, Loss: 0.56376, Acc: 0.72893: 100%|██████████| 2031/2031 [00:41<00:00, 49.38it/s]\n",
      "Validation Epoch 25, Loss: 0.43648, Acc: 0.84760: 100%|██████████| 581/581 [00:04<00:00, 125.37it/s]\n"
     ]
    },
    {
     "name": "stdout",
     "output_type": "stream",
     "text": [
      "\n"
     ]
    },
    {
     "name": "stderr",
     "output_type": "stream",
     "text": [
      "Epoch 26, Loss: 0.56354, Acc: 0.72923: 100%|██████████| 2031/2031 [00:41<00:00, 49.45it/s]\n",
      "Validation Epoch 26, Loss: 0.42958, Acc: 0.84959: 100%|██████████| 581/581 [00:04<00:00, 122.30it/s]\n"
     ]
    },
    {
     "name": "stdout",
     "output_type": "stream",
     "text": [
      "\n"
     ]
    },
    {
     "name": "stderr",
     "output_type": "stream",
     "text": [
      "Epoch 27, Loss: 0.56354, Acc: 0.72927: 100%|██████████| 2031/2031 [00:41<00:00, 49.30it/s]\n",
      "Validation Epoch 27, Loss: 0.43612, Acc: 0.84964: 100%|██████████| 581/581 [00:04<00:00, 122.66it/s]\n"
     ]
    },
    {
     "name": "stdout",
     "output_type": "stream",
     "text": [
      "\n"
     ]
    },
    {
     "name": "stderr",
     "output_type": "stream",
     "text": [
      "Epoch 28, Loss: 0.56334, Acc: 0.72941: 100%|██████████| 2031/2031 [00:41<00:00, 49.36it/s]\n",
      "Validation Epoch 28, Loss: 0.43229, Acc: 0.84813: 100%|██████████| 581/581 [00:04<00:00, 122.43it/s]\n"
     ]
    },
    {
     "name": "stdout",
     "output_type": "stream",
     "text": [
      "\n"
     ]
    },
    {
     "name": "stderr",
     "output_type": "stream",
     "text": [
      "Epoch 29, Loss: 0.56317, Acc: 0.72936: 100%|██████████| 2031/2031 [00:41<00:00, 48.89it/s]\n",
      "Validation Epoch 29, Loss: 0.42767, Acc: 0.84848: 100%|██████████| 581/581 [00:04<00:00, 121.87it/s]\n"
     ]
    },
    {
     "name": "stdout",
     "output_type": "stream",
     "text": [
      "\n"
     ]
    },
    {
     "name": "stderr",
     "output_type": "stream",
     "text": [
      "Epoch 30, Loss: 0.56292, Acc: 0.72971: 100%|██████████| 2031/2031 [00:42<00:00, 47.39it/s]\n",
      "Validation Epoch 30, Loss: 0.43445, Acc: 0.84786: 100%|██████████| 581/581 [00:04<00:00, 118.60it/s]\n"
     ]
    },
    {
     "name": "stdout",
     "output_type": "stream",
     "text": [
      "\n"
     ]
    },
    {
     "name": "stderr",
     "output_type": "stream",
     "text": [
      "Epoch 31, Loss: 0.56289, Acc: 0.72951: 100%|██████████| 2031/2031 [00:41<00:00, 48.60it/s]\n",
      "Validation Epoch 31, Loss: 0.42781, Acc: 0.84910: 100%|██████████| 581/581 [00:04<00:00, 119.10it/s]\n"
     ]
    },
    {
     "name": "stdout",
     "output_type": "stream",
     "text": [
      "\n"
     ]
    },
    {
     "name": "stderr",
     "output_type": "stream",
     "text": [
      "Epoch 32, Loss: 0.56279, Acc: 0.73017: 100%|██████████| 2031/2031 [00:41<00:00, 48.74it/s]\n",
      "Validation Epoch 32, Loss: 0.42604, Acc: 0.84889: 100%|██████████| 581/581 [00:04<00:00, 116.60it/s]\n"
     ]
    },
    {
     "name": "stdout",
     "output_type": "stream",
     "text": [
      "\n"
     ]
    },
    {
     "name": "stderr",
     "output_type": "stream",
     "text": [
      "Epoch 33, Loss: 0.56254, Acc: 0.72953: 100%|██████████| 2031/2031 [00:41<00:00, 48.87it/s]\n",
      "Validation Epoch 33, Loss: 0.42798, Acc: 0.84854: 100%|██████████| 581/581 [00:04<00:00, 117.51it/s]\n"
     ]
    },
    {
     "name": "stdout",
     "output_type": "stream",
     "text": [
      "\n"
     ]
    },
    {
     "name": "stderr",
     "output_type": "stream",
     "text": [
      "Epoch 34, Loss: 0.56267, Acc: 0.72986: 100%|██████████| 2031/2031 [00:41<00:00, 48.87it/s]\n",
      "Validation Epoch 34, Loss: 0.42332, Acc: 0.84948: 100%|██████████| 581/581 [00:04<00:00, 116.47it/s]\n"
     ]
    },
    {
     "name": "stdout",
     "output_type": "stream",
     "text": [
      "\n"
     ]
    },
    {
     "name": "stderr",
     "output_type": "stream",
     "text": [
      "Epoch 35, Loss: 0.56277, Acc: 0.72917: 100%|██████████| 2031/2031 [00:41<00:00, 48.92it/s]\n",
      "Validation Epoch 35, Loss: 0.43020, Acc: 0.85004: 100%|██████████| 581/581 [00:04<00:00, 118.15it/s]\n"
     ]
    },
    {
     "name": "stdout",
     "output_type": "stream",
     "text": [
      "\n"
     ]
    },
    {
     "name": "stderr",
     "output_type": "stream",
     "text": [
      "Epoch 36, Loss: 0.56265, Acc: 0.72927: 100%|██████████| 2031/2031 [00:41<00:00, 48.51it/s]\n",
      "Validation Epoch 36, Loss: 0.42772, Acc: 0.84932: 100%|██████████| 581/581 [00:05<00:00, 112.06it/s]\n"
     ]
    },
    {
     "name": "stdout",
     "output_type": "stream",
     "text": [
      "\n"
     ]
    },
    {
     "name": "stderr",
     "output_type": "stream",
     "text": [
      "Epoch 37, Loss: 0.56259, Acc: 0.72939: 100%|██████████| 2031/2031 [00:42<00:00, 48.27it/s]\n",
      "Validation Epoch 37, Loss: 0.41907, Acc: 0.85098: 100%|██████████| 581/581 [00:04<00:00, 118.58it/s]\n"
     ]
    },
    {
     "name": "stdout",
     "output_type": "stream",
     "text": [
      "\n"
     ]
    },
    {
     "name": "stderr",
     "output_type": "stream",
     "text": [
      "Epoch 38, Loss: 0.56204, Acc: 0.72923: 100%|██████████| 2031/2031 [00:41<00:00, 48.36it/s]\n",
      "Validation Epoch 38, Loss: 0.42887, Acc: 0.84886: 100%|██████████| 581/581 [00:04<00:00, 118.31it/s]\n"
     ]
    },
    {
     "name": "stdout",
     "output_type": "stream",
     "text": [
      "\n"
     ]
    },
    {
     "name": "stderr",
     "output_type": "stream",
     "text": [
      "Epoch 39, Loss: 0.56244, Acc: 0.72964: 100%|██████████| 2031/2031 [00:41<00:00, 48.50it/s]\n",
      "Validation Epoch 39, Loss: 0.42490, Acc: 0.84821: 100%|██████████| 581/581 [00:04<00:00, 116.45it/s]\n"
     ]
    },
    {
     "name": "stdout",
     "output_type": "stream",
     "text": [
      "\n"
     ]
    },
    {
     "name": "stderr",
     "output_type": "stream",
     "text": [
      "Epoch 40, Loss: 0.56238, Acc: 0.72992: 100%|██████████| 2031/2031 [00:42<00:00, 48.23it/s]\n",
      "Validation Epoch 40, Loss: 0.42746, Acc: 0.84762: 100%|██████████| 581/581 [00:04<00:00, 117.89it/s]\n"
     ]
    },
    {
     "name": "stdout",
     "output_type": "stream",
     "text": [
      "\n"
     ]
    },
    {
     "name": "stderr",
     "output_type": "stream",
     "text": [
      "Epoch 41, Loss: 0.56216, Acc: 0.72999: 100%|██████████| 2031/2031 [00:41<00:00, 48.49it/s]\n",
      "Validation Epoch 41, Loss: 0.42451, Acc: 0.85184: 100%|██████████| 581/581 [00:05<00:00, 115.78it/s]\n"
     ]
    },
    {
     "name": "stdout",
     "output_type": "stream",
     "text": [
      "\n"
     ]
    },
    {
     "name": "stderr",
     "output_type": "stream",
     "text": [
      "Epoch 42, Loss: 0.56223, Acc: 0.72938: 100%|██████████| 2031/2031 [00:41<00:00, 48.70it/s]\n",
      "Validation Epoch 42, Loss: 0.42094, Acc: 0.84972: 100%|██████████| 581/581 [00:04<00:00, 118.49it/s]\n"
     ]
    },
    {
     "name": "stdout",
     "output_type": "stream",
     "text": [
      "\n"
     ]
    },
    {
     "name": "stderr",
     "output_type": "stream",
     "text": [
      "Epoch 43, Loss: 0.56209, Acc: 0.73004: 100%|██████████| 2031/2031 [00:42<00:00, 48.34it/s]\n",
      "Validation Epoch 43, Loss: 0.42747, Acc: 0.84789: 100%|██████████| 581/581 [00:04<00:00, 117.75it/s]\n"
     ]
    },
    {
     "name": "stdout",
     "output_type": "stream",
     "text": [
      "\n"
     ]
    },
    {
     "name": "stderr",
     "output_type": "stream",
     "text": [
      "Epoch 44, Loss: 0.56220, Acc: 0.72957: 100%|██████████| 2031/2031 [00:42<00:00, 48.31it/s]\n",
      "Validation Epoch 44, Loss: 0.42790, Acc: 0.84778: 100%|██████████| 581/581 [00:04<00:00, 117.86it/s]\n"
     ]
    },
    {
     "name": "stdout",
     "output_type": "stream",
     "text": [
      "\n"
     ]
    },
    {
     "name": "stderr",
     "output_type": "stream",
     "text": [
      "Epoch 45, Loss: 0.56196, Acc: 0.73028: 100%|██████████| 2031/2031 [00:41<00:00, 48.76it/s]\n",
      "Validation Epoch 45, Loss: 0.42361, Acc: 0.84929: 100%|██████████| 581/581 [00:05<00:00, 114.93it/s]\n"
     ]
    },
    {
     "name": "stdout",
     "output_type": "stream",
     "text": [
      "\n"
     ]
    },
    {
     "name": "stderr",
     "output_type": "stream",
     "text": [
      "Epoch 46, Loss: 0.56180, Acc: 0.73011: 100%|██████████| 2031/2031 [00:42<00:00, 48.23it/s]\n",
      "Validation Epoch 46, Loss: 0.43066, Acc: 0.84776: 100%|██████████| 581/581 [00:05<00:00, 115.03it/s]\n"
     ]
    },
    {
     "name": "stdout",
     "output_type": "stream",
     "text": [
      "\n"
     ]
    },
    {
     "name": "stderr",
     "output_type": "stream",
     "text": [
      "Epoch 47, Loss: 0.56179, Acc: 0.73081: 100%|██████████| 2031/2031 [00:41<00:00, 48.51it/s]\n",
      "Validation Epoch 47, Loss: 0.42939, Acc: 0.84647: 100%|██████████| 581/581 [00:05<00:00, 115.45it/s]\n"
     ]
    },
    {
     "name": "stdout",
     "output_type": "stream",
     "text": [
      "\n"
     ]
    },
    {
     "name": "stderr",
     "output_type": "stream",
     "text": [
      "Epoch 48, Loss: 0.56218, Acc: 0.73007: 100%|██████████| 2031/2031 [00:41<00:00, 48.58it/s]\n",
      "Validation Epoch 48, Loss: 0.41786, Acc: 0.85139: 100%|██████████| 581/581 [00:05<00:00, 110.68it/s]\n"
     ]
    },
    {
     "name": "stdout",
     "output_type": "stream",
     "text": [
      "\n"
     ]
    },
    {
     "name": "stderr",
     "output_type": "stream",
     "text": [
      "Epoch 49, Loss: 0.56180, Acc: 0.73031: 100%|██████████| 2031/2031 [00:41<00:00, 48.55it/s]\n",
      "Validation Epoch 49, Loss: 0.42663, Acc: 0.84778: 100%|██████████| 581/581 [00:05<00:00, 114.91it/s]\n"
     ]
    },
    {
     "name": "stdout",
     "output_type": "stream",
     "text": [
      "\n"
     ]
    }
   ],
   "source": [
    "EPOCHS = 50\n",
    "train_losses = []\n",
    "val_losses = []\n",
    "best_loss = float(\"inf\")\n",
    "model.to(device)\n",
    "for epoch in range(EPOCHS):\n",
    "    train_loss = train(epoch)\n",
    "    val_loss = validate(epoch)\n",
    "    train_losses.append(train_loss)\n",
    "    val_losses.append(val_loss)\n",
    "    print()\n",
    "    if val_loss < best_loss:\n",
    "        best_loss = val_loss\n",
    "        torch.save(model.state_dict(), \"best_magnn.pt\")"
   ]
  },
  {
   "cell_type": "code",
   "execution_count": 31,
   "id": "967f82d0",
   "metadata": {
    "colab": {
     "base_uri": "https://localhost:8080/",
     "height": 201
    },
    "id": "ga5RHsDUWeee",
    "outputId": "f9bd786e-8ffe-4afe-943e-e3699141640c",
    "scrolled": true
   },
   "outputs": [
    {
     "data": {
      "image/png": "[encoded data removed]",
      "text/plain": [
       "<Figure size 640x480 with 1 Axes>"
      ]
     },
     "metadata": {},
     "output_type": "display_data"
    }
   ],
   "source": [
    "plt.plot(train_losses, label=\"Train loss\")\n",
    "#plt.plot(val_losses, label=\"Validation loss\")\n",
    "plt.legend()\n",
    "plt.show()"
   ]
  },
  {
   "cell_type": "code",
   "execution_count": 53,
   "id": "d9657d8d",
   "metadata": {
    "scrolled": true
   },
   "outputs": [
    {
     "data": {
      "image/png": "[encoded data removed]",
      "text/plain": [
       "<Figure size 640x480 with 1 Axes>"
      ]
     },
     "metadata": {},
     "output_type": "display_data"
    }
   ],
   "source": [
    "plt.plot(val_losses, label=\"Validation loss\")\n",
    "plt.legend()\n",
    "plt.show()"
   ]
  },
  {
   "cell_type": "code",
   "execution_count": 40,
   "id": "d9bd0ea1",
   "metadata": {},
   "outputs": [
    {
     "name": "stderr",
     "output_type": "stream",
     "text": [
      "100%|██████████| 581/581 [00:12<00:00, 47.64it/s]\n"
     ]
    },
    {
     "name": "stdout",
     "output_type": "stream",
     "text": [
      "mAP: 0.932175554683179\n",
      "Accuracy: 0.8513876795768738\n",
      "ROC-AUC score: 0.9476713743321019\n",
      "F1 Score: 0.8368066174647654\n",
      "Recall: 0.7725342645607782\n"
     ]
    }
   ],
   "source": [
    "model.to(device)\n",
    "model.eval()\n",
    "\n",
    "maps = []\n",
    "accs = []\n",
    "rocs = []\n",
    "f1s = []   \n",
    "recalls = []  \n",
    "\n",
    "for batch in tqdm(test_loader):\n",
    "    edge, label, umetapath1, umetapath2, umetapath3, mmetapath1, mmetapath2, mmetapath3 = batch\n",
    "    edge, label, umetapath1, umetapath2, umetapath3, mmetapath1, mmetapath2, mmetapath3 = \\\n",
    "        edge.to(device), label.to(device), umetapath1.to(device), umetapath2.to(device), umetapath3.to(\n",
    "            device), mmetapath1.to(device), mmetapath2.to(device), mmetapath3.to(device)\n",
    "\n",
    "    out = model(edge, umetapath1, umetapath2, umetapath3, mmetapath1, mmetapath2, mmetapath3)\n",
    "    pred = (out > 0.5)\n",
    "    acc = (pred == label.reshape(-1, 1)).sum() / BATCH_SIZE\n",
    "\n",
    "   \n",
    "    pred_int = pred.int().cpu().detach().numpy()\n",
    "    label_int = label.reshape(-1, 1).cpu().detach().numpy()\n",
    "\n",
    "    accs.append(acc.cpu())\n",
    "    maps.append(average_precision_score(label_int, out.cpu().detach().numpy()))\n",
    "    rocs.append(roc_auc_score(label_int, out.cpu().detach().numpy()))\n",
    "    f1s.append(f1_score(label_int, pred_int))  \n",
    "    recalls.append(recall_score(label_int, pred_int)) \n",
    "\n",
    "print(f\"mAP: {np.mean(maps)}\")\n",
    "print(f\"Accuracy: {np.mean(accs)}\")\n",
    "print(f\"ROC-AUC score: {np.mean(rocs)}\")\n",
    "print(f\"F1 Score: {np.mean(f1s)}\")  \n",
    "print(f\"Recall: {np.mean(recalls)}\") "
   ]
  },
  {
   "cell_type": "code",
   "execution_count": null,
   "id": "2bd410d7",
   "metadata": {},
   "outputs": [],
   "source": []
  }
 ],
 "metadata": {
  "kernelspec": {
   "display_name": "Python [conda env:pytorchGPU]",
   "language": "python",
   "name": "conda-env-pytorchGPU-py"
  },
  "language_info": {
   "codemirror_mode": {
    "name": "ipython",
    "version": 3
   },
   "file_extension": ".py",
   "mimetype": "text/x-python",
   "name": "python",
   "nbconvert_exporter": "python",
   "pygments_lexer": "ipython3",
   "version": "3.8.19"
  }
 },
 "nbformat": 4,
 "nbformat_minor": 5
}
